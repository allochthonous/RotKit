{
 "cells": [
  {
   "cell_type": "markdown",
   "metadata": {},
   "source": [
    "# Pacific-Farallon Stage Rotations to Full Rotations\n",
    "## (Reproducing Results of Rowan and Rowley 2014)\n",
    "\n",
    "[Rowan and Rowley 2014](https://doi.org/10.1093/gji/ggu056),full Pacific-Farallon rotation poles from 83-28 Ma were estimated using the record of spreading on the still-unsubducted Pacific half of the system. The \"half\" stage rotations estimated from the Pacific magnetic anomaly record were combined with estimates of spreading asymmetry."
   ]
  },
  {
   "cell_type": "code",
   "execution_count": 4,
   "metadata": {},
   "outputs": [
    {
     "data": {
      "text/html": [
       "<div>\n",
       "<style scoped>\n",
       "    .dataframe tbody tr th:only-of-type {\n",
       "        vertical-align: middle;\n",
       "    }\n",
       "\n",
       "    .dataframe tbody tr th {\n",
       "        vertical-align: top;\n",
       "    }\n",
       "\n",
       "    .dataframe thead th {\n",
       "        text-align: right;\n",
       "    }\n",
       "</style>\n",
       "<table border=\"1\" class=\"dataframe\">\n",
       "  <thead>\n",
       "    <tr style=\"text-align: right;\">\n",
       "      <th></th>\n",
       "      <th>MovingPlate</th>\n",
       "      <th>FixedPlate</th>\n",
       "      <th>StartAge</th>\n",
       "      <th>EndAge</th>\n",
       "      <th>RotLat</th>\n",
       "      <th>RotLong</th>\n",
       "      <th>RotAng</th>\n",
       "    </tr>\n",
       "  </thead>\n",
       "  <tbody>\n",
       "    <tr>\n",
       "      <th>0</th>\n",
       "      <td>901</td>\n",
       "      <td>902</td>\n",
       "      <td>33.06</td>\n",
       "      <td>28.28</td>\n",
       "      <td>78.6484</td>\n",
       "      <td>104.3035</td>\n",
       "      <td>3.30690</td>\n",
       "    </tr>\n",
       "    <tr>\n",
       "      <th>1</th>\n",
       "      <td>901</td>\n",
       "      <td>902</td>\n",
       "      <td>40.13</td>\n",
       "      <td>33.06</td>\n",
       "      <td>64.1441</td>\n",
       "      <td>67.5902</td>\n",
       "      <td>4.26806</td>\n",
       "    </tr>\n",
       "    <tr>\n",
       "      <th>2</th>\n",
       "      <td>901</td>\n",
       "      <td>902</td>\n",
       "      <td>43.79</td>\n",
       "      <td>40.13</td>\n",
       "      <td>73.0263</td>\n",
       "      <td>81.0490</td>\n",
       "      <td>2.11536</td>\n",
       "    </tr>\n",
       "    <tr>\n",
       "      <th>3</th>\n",
       "      <td>901</td>\n",
       "      <td>902</td>\n",
       "      <td>53.35</td>\n",
       "      <td>43.79</td>\n",
       "      <td>61.3272</td>\n",
       "      <td>64.8469</td>\n",
       "      <td>5.00122</td>\n",
       "    </tr>\n",
       "    <tr>\n",
       "      <th>4</th>\n",
       "      <td>901</td>\n",
       "      <td>902</td>\n",
       "      <td>64.75</td>\n",
       "      <td>53.35</td>\n",
       "      <td>64.5980</td>\n",
       "      <td>64.0890</td>\n",
       "      <td>4.04000</td>\n",
       "    </tr>\n",
       "    <tr>\n",
       "      <th>5</th>\n",
       "      <td>901</td>\n",
       "      <td>902</td>\n",
       "      <td>73.62</td>\n",
       "      <td>64.75</td>\n",
       "      <td>64.8520</td>\n",
       "      <td>60.6590</td>\n",
       "      <td>3.14400</td>\n",
       "    </tr>\n",
       "    <tr>\n",
       "      <th>6</th>\n",
       "      <td>901</td>\n",
       "      <td>902</td>\n",
       "      <td>83.00</td>\n",
       "      <td>73.62</td>\n",
       "      <td>50.3620</td>\n",
       "      <td>40.7850</td>\n",
       "      <td>3.86000</td>\n",
       "    </tr>\n",
       "  </tbody>\n",
       "</table>\n",
       "</div>"
      ],
      "text/plain": [
       "   MovingPlate  FixedPlate  StartAge  EndAge   RotLat   RotLong   RotAng\n",
       "0          901         902     33.06   28.28  78.6484  104.3035  3.30690\n",
       "1          901         902     40.13   33.06  64.1441   67.5902  4.26806\n",
       "2          901         902     43.79   40.13  73.0263   81.0490  2.11536\n",
       "3          901         902     53.35   43.79  61.3272   64.8469  5.00122\n",
       "4          901         902     64.75   53.35  64.5980   64.0890  4.04000\n",
       "5          901         902     73.62   64.75  64.8520   60.6590  3.14400\n",
       "6          901         902     83.00   73.62  50.3620   40.7850  3.86000"
      ]
     },
     "execution_count": 4,
     "metadata": {},
     "output_type": "execute_result"
    }
   ],
   "source": [
    "%matplotlib inline\n",
    "import EulerRots as rotkit\n",
    "# in order to work correctly, you need to have compiled the fortran routines Rotkit_f for your machine\n",
    "\n",
    "rotmodel=rotkit.EulerRotationModel(rotkit.load_rotsets('./Datafiles/GlobalRots.txt'))\n",
    "stagerots=rotkit.load_stagerots('./Examples/RR_14_StageRots.txt')\n",
    "stagerots.summary()"
   ]
  },
  {
   "cell_type": "code",
   "execution_count": 5,
   "metadata": {},
   "outputs": [
    {
     "name": "stdout",
     "output_type": "stream",
     "text": [
      "Uh-oh: no rotations fit parameters\n"
     ]
    },
    {
     "ename": "AttributeError",
     "evalue": "'list' object has no attribute 'interpolate'",
     "output_type": "error",
     "traceback": [
      "\u001b[0;31m---------------------------------------------------------------------------\u001b[0m",
      "\u001b[0;31mAttributeError\u001b[0m                            Traceback (most recent call last)",
      "\u001b[0;32m<ipython-input-5-0c5207cabd94>\u001b[0m in \u001b[0;36m<module>\u001b[0;34m()\u001b[0m\n\u001b[0;32m----> 1\u001b[0;31m \u001b[0mrotmodel\u001b[0m\u001b[0;34m.\u001b[0m\u001b[0mget_rots\u001b[0m\u001b[0;34m(\u001b[0m\u001b[0;36m901\u001b[0m\u001b[0;34m,\u001b[0m\u001b[0;36m902\u001b[0m\u001b[0;34m,\u001b[0m\u001b[0;34m[\u001b[0m\u001b[0;36m28.28\u001b[0m\u001b[0;34m]\u001b[0m\u001b[0;34m)\u001b[0m\u001b[0;34m\u001b[0m\u001b[0m\n\u001b[0m",
      "\u001b[0;32m/Users/crowan/Code/RotKit/EulerRots.py\u001b[0m in \u001b[0;36mget_rots\u001b[0;34m(self, movingplate, fixedplate, ages, preferred)\u001b[0m\n\u001b[1;32m    455\u001b[0m         \u001b[0;31m#now interpolate ages if some have been input\u001b[0m\u001b[0;34m\u001b[0m\u001b[0;34m\u001b[0m\u001b[0m\n\u001b[1;32m    456\u001b[0m         \u001b[0;32mif\u001b[0m \u001b[0mages\u001b[0m\u001b[0;34m:\u001b[0m\u001b[0;34m\u001b[0m\u001b[0m\n\u001b[0;32m--> 457\u001b[0;31m             \u001b[0mrots_got\u001b[0m\u001b[0;34m=\u001b[0m\u001b[0mrots_got\u001b[0m\u001b[0;34m.\u001b[0m\u001b[0minterpolate\u001b[0m\u001b[0;34m(\u001b[0m\u001b[0mages\u001b[0m\u001b[0;34m)\u001b[0m\u001b[0;34m\u001b[0m\u001b[0m\n\u001b[0m\u001b[1;32m    458\u001b[0m         \u001b[0;32mreturn\u001b[0m \u001b[0mrots_got\u001b[0m\u001b[0;34m\u001b[0m\u001b[0m\n\u001b[1;32m    459\u001b[0m \u001b[0;34m\u001b[0m\u001b[0m\n",
      "\u001b[0;31mAttributeError\u001b[0m: 'list' object has no attribute 'interpolate'"
     ]
    }
   ],
   "source": [
    "rotmodel.get_rots(901,902,[28.28])"
   ]
  },
  {
   "cell_type": "code",
   "execution_count": null,
   "metadata": {},
   "outputs": [],
   "source": []
  }
 ],
 "metadata": {
  "kernelspec": {
   "display_name": "Python 2",
   "language": "python",
   "name": "python2"
  },
  "language_info": {
   "codemirror_mode": {
    "name": "ipython",
    "version": 2
   },
   "file_extension": ".py",
   "mimetype": "text/x-python",
   "name": "python",
   "nbconvert_exporter": "python",
   "pygments_lexer": "ipython2",
   "version": "2.7.15"
  }
 },
 "nbformat": 4,
 "nbformat_minor": 2
}
